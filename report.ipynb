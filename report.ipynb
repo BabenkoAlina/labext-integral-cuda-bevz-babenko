{
 "cells": [
  {
   "cell_type": "markdown",
   "metadata": {},
   "source": [
    "# Додаткова лабораторна: нтегрування з використанням CUDA, OpenAPI i OpenCl"
   ]
  },
  {
   "cell_type": "markdown",
   "metadata": {},
   "source": [
    "Виконано командою:\n",
    "\n",
    "* Бабенко Аліна (https://github.com/BabenkoAlina) \n",
    "* Бевз Євгеній (https://github.com/ybevz)"
   ]
  },
  {
   "cell_type": "markdown",
   "metadata": {},
   "source": [
    "# Графік запуску програми на директорії №3"
   ]
  },
  {
   "cell_type": "markdown",
   "metadata": {},
   "source": [
    "Загалом тенденція така сама, як і на попередні практичній, там теж запис займав набагато менше часу, ніж індектування файлів.<br>\n",
    "Нижче наведено графік попередньої практичної\n",
    "\n",
    "Код цієї практичної виконувався на 10 потоках індеквування та 10 потоках мердження. <br>\n",
    "\n",
    "І по результатах паралельна програма випереджає аж у 10 разів, що є результатом кращим, ніж очікувалось"
   ]
  },
  {
   "cell_type": "markdown",
   "metadata": {},
   "source": [
    "## §1: Аналіз результатів запусків з використанням профайлера"
   ]
  },
  {
   "cell_type": "markdown",
   "metadata": {},
   "source": [
    "Тут ми розглянемо результати запуску програми на піддиректорії *3/0*. Запуск було виконано на *Linux Fedora 40*, використаний профайлер - *perf*. Аналогічно до попередньої лабораторної роботи з послідовним підрахунком слів, для отримання результатів профайлера виконуємо наступні кроки:\n",
    "- `sudo perf -g ./bin/countwords_seq ./config.cfg`\n",
    "- `sudo perf report`\n",
    "\n",
    "Отримуємо наступний вивід:\n",
    "![Perf Result](./results/perf_results.jpg)\n",
    "\n",
    "Дивлячись на перші елементи секції *Children*, ми бачимо, що більшість часу програма перебуває у функціях, викликаних потоками, а також методом `WordsCounter::writeFileContentToMap`. Фактично ситуація дуже подібна до попередньої лабораторної, з єдинною відмінністю, що більшість роботи на себе взяли потоки."
   ]
  },
  {
   "cell_type": "markdown",
   "metadata": {},
   "source": [
    "## §2: Залежність швидкодії програми від кількості задіяних потоків"
   ]
  },
  {
   "cell_type": "code",
   "execution_count": null,
   "metadata": {
    "vscode": {
     "languageId": "plaintext"
    }
   },
   "outputs": [],
   "source": [
    "from mpl_toolkits.mplot3d import Axes3D\n",
    "\n",
    "%matplotlib inline\n",
    "import numpy as np\n",
    "import matplotlib.pyplot as plt\n",
    "\n",
    "import subprocess\n",
    "\n",
    "cells, times = [[0]*10]*10, []\n",
    "\n",
    "with open('./copy_config.cfg', \"r\") as file:\n",
    "    cfg_content = file.readlines()\n",
    "\n",
    "for i in range(1, 11):\n",
    "    for j in range(1, 11):\n",
    "        for k, line in enumerate(cfg_content):\n",
    "            if line.startswith(\"indexing_threads =\"):\n",
    "                cfg_content[k] = f\"indexing_threads = {i}\\n\"\n",
    "            elif line.startswith(\"merging_threads  =\"):\n",
    "                cfg_content[k] = f\"merging_threads  = {j}\\n\"\n",
    "    \n",
    "        with open('./copy_config.cfg', \"w\") as file:\n",
    "            file.writelines(cfg_content)\n",
    "\n",
    "        runner = subprocess.run(\n",
    "            f\"./bin/countwords_par ./copy_config.cfg\",\n",
    "            shell=True,\n",
    "            capture_output=True,\n",
    "            text=True,\n",
    "            check=True\n",
    "        )\n",
    "        run_result = int(runner.stdout.splitlines()[0].replace(\"Total=\", ''))\n",
    "        cells[i-1][j-1] = run_result\n",
    "\n",
    "times = np.array(cells)\n",
    "x = np.arange(times.shape[0])  # Number of elements A\n",
    "y = np.arange(times.shape[1])  # Number of elements B\n",
    "X, Y = np.meshgrid(x, y)\n",
    "\n",
    "fig = plt.figure()\n",
    "ax = fig.add_subplot(111, projection='3d')\n",
    "ax.plot_surface(X, Y, times, cmap='viridis')\n",
    "\n",
    "# Set labels\n",
    "ax.set_xlabel('index threads')\n",
    "ax.set_ylabel('merge threads')\n",
    "ax.set_zlabel('time consumed')\n",
    "\n",
    "plt.show()"
   ]
  },
  {
   "cell_type": "markdown",
   "metadata": {},
   "source": [
    "# *Файли з результатами:*\n",
    "\n",
    "lab7<br>\n",
    "https://drive.google.com/drive/folders/14riOl1gT4sEkaWM-4-QVKmLyzA6QHSK3?usp=sharing<br>\n",
    "\n",
    "lab8<br>\n",
    "https://drive.google.com/drive/folders/1YZJVp-bzmeqRjh55KzVg2zuf4o66Swv3?usp=sharing<br>\n",
    "\n",
    "Запуски виконувалися на повній директорії 3 і можна побачити, що результати збігаються, що і очікувалося"
   ]
  }
 ],
 "metadata": {
  "language_info": {
   "name": "python"
  }
 },
 "nbformat": 4,
 "nbformat_minor": 2
}
